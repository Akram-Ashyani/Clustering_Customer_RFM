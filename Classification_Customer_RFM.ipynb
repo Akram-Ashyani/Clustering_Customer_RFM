{
 "cells": [
  {
   "cell_type": "code",
   "execution_count": 2,
   "id": "7428e87f",
   "metadata": {},
   "outputs": [],
   "source": [
    "import numpy as np\n",
    "import pandas as pd\n",
    "import matplotlib.pyplot as plt"
   ]
  },
  {
   "cell_type": "code",
   "execution_count": 3,
   "id": "48a56006",
   "metadata": {},
   "outputs": [],
   "source": [
    "df = pd.read_excel(\"Project_AC767000.xlsx\")"
   ]
  },
  {
   "cell_type": "code",
   "execution_count": 4,
   "id": "0879fb28",
   "metadata": {},
   "outputs": [
    {
     "name": "stdout",
     "output_type": "stream",
     "text": [
      "<class 'pandas.core.frame.DataFrame'>\n",
      "RangeIndex: 1054 entries, 0 to 1053\n",
      "Data columns (total 32 columns):\n",
      " #   Column                                       Non-Null Count  Dtype  \n",
      "---  ------                                       --------------  -----  \n",
      " 0   Unnamed: 0                                   0 non-null      float64\n",
      " 1   ردیف                                         1054 non-null   int64  \n",
      " 2   بيمه گذار                                    1054 non-null   object \n",
      " 3   فعاليت شغلي اصلي                             1054 non-null   object \n",
      " 4   صدور بيمه نامه به صورت با نام                1054 non-null   object \n",
      " 5   معرف                                         1054 non-null   object \n",
      " 6   واحد صدور                                    1054 non-null   object \n",
      " 7   تاريخ پيشنهاد                                193 non-null    object \n",
      " 8   تاریخ شروع                                   1054 non-null   object \n",
      " 9   تاریخ پایان                                  1054 non-null   object \n",
      " 10  نحوه محاسبه                                  1054 non-null   object \n",
      " 11  مدت                                          1054 non-null   int64  \n",
      " 12  تاريخ صدور                                   1054 non-null   object \n",
      " 13  آدرس محل فعاليت                              1054 non-null   object \n",
      " 14  غرامت فوت و نقص عضو ماه عادي هرنفردرهرحادثه  1054 non-null   int64  \n",
      " 15  غرامت فوت ماه حرام هرنفردرهرحادثه            1054 non-null   int64  \n",
      " 16  غرامت فوت و نقص عضو درطول مدت بيمه           1054 non-null   int64  \n",
      " 17  هزينه پزشكي فرد درهرحادثه                    1054 non-null   int64  \n",
      " 18  هزينه پزشكي درطول مدت بيمه                   1054 non-null   int64  \n",
      " 19  درصد فرانشيز                                 1054 non-null   int64  \n",
      " 20  حداقل مبلغ فرانشيز                           1054 non-null   int64  \n",
      " 21  شرکت بیمه سال قبل                            1054 non-null   int64  \n",
      " 22  شماره بیمه نامه سال قبل                      414 non-null    object \n",
      " 23  سابقه خسارت                                  1054 non-null   object \n",
      " 24  تخفيف مديريتي                                1054 non-null   int64  \n",
      " 25  محاسبه کارشناسي؟                             1054 non-null   object \n",
      " 26  حق بيمه                                      1054 non-null   int64  \n",
      " 27  ماليات بر ارزش  افزوده                       1054 non-null   int64  \n",
      " 28  عوارض شهرداري                                1054 non-null   int64  \n",
      " 29  حق بيمه کل(با ماليات)                        1054 non-null   int64  \n",
      " 30  واحد پیشنهاد دهنده                           1054 non-null   object \n",
      " 31  درصد تشديد خطر                               1054 non-null   float64\n",
      "dtypes: float64(2), int64(15), object(15)\n",
      "memory usage: 263.6+ KB\n"
     ]
    }
   ],
   "source": [
    "df.info()"
   ]
  },
  {
   "cell_type": "code",
   "execution_count": null,
   "id": "6e745ec8",
   "metadata": {},
   "outputs": [],
   "source": []
  }
 ],
 "metadata": {
  "kernelspec": {
   "display_name": "Python 3 (ipykernel)",
   "language": "python",
   "name": "python3"
  },
  "language_info": {
   "codemirror_mode": {
    "name": "ipython",
    "version": 3
   },
   "file_extension": ".py",
   "mimetype": "text/x-python",
   "name": "python",
   "nbconvert_exporter": "python",
   "pygments_lexer": "ipython3",
   "version": "3.10.8"
  }
 },
 "nbformat": 4,
 "nbformat_minor": 5
}
